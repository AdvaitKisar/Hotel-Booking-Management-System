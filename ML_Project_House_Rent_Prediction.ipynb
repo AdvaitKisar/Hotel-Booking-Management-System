{
  "nbformat": 4,
  "nbformat_minor": 0,
  "metadata": {
    "colab": {
      "provenance": [],
      "authorship_tag": "ABX9TyMaUd3LtA2JOC1xIwPsBJaW",
      "include_colab_link": true
    },
    "kernelspec": {
      "name": "python3",
      "display_name": "Python 3"
    },
    "language_info": {
      "name": "python"
    }
  },
  "cells": [
    {
      "cell_type": "markdown",
      "metadata": {
        "id": "view-in-github",
        "colab_type": "text"
      },
      "source": [
        "<a href=\"https://colab.research.google.com/github/AdvaitKisar/Hotel-Booking-Management-System/blob/main/ML_Project_House_Rent_Prediction.ipynb\" target=\"_parent\"><img src=\"https://colab.research.google.com/assets/colab-badge.svg\" alt=\"Open In Colab\"/></a>"
      ]
    },
    {
      "cell_type": "markdown",
      "source": [
        "# **House Rent Prediction**"
      ],
      "metadata": {
        "id": "zZI1XBFR7AQ1"
      }
    },
    {
      "cell_type": "markdown",
      "source": [
        "## **Importing Libraries**"
      ],
      "metadata": {
        "id": "07QdfWq37elk"
      }
    },
    {
      "cell_type": "markdown",
      "source": [
        "We are importing several libraries and few functions for modelling the data using different models. As this is a regression problem, we will be trying four different models, namely, **Linear Regression, Random Forest, XGBoost** and **Neural Network**."
      ],
      "metadata": {
        "id": "R8ewOhJR76oW"
      }
    },
    {
      "cell_type": "code",
      "execution_count": 1,
      "metadata": {
        "id": "iqpHKqbKm6UL"
      },
      "outputs": [],
      "source": [
        "import numpy as np\n",
        "import pandas as pd\n",
        "from sklearn.linear_model import LinearRegression\n",
        "from sklearn.model_selection import train_test_split\n",
        "from sklearn.metrics import mean_squared_error, mean_absolute_error\n",
        "from sklearn.preprocessing import StandardScaler, MinMaxScaler , OneHotEncoder, LabelEncoder\n",
        "from sklearn.compose import ColumnTransformer, make_column_selector\n",
        "from sklearn.ensemble import RandomForestRegressor\n",
        "\n",
        "from xgboost.sklearn import XGBRegressor\n",
        "\n",
        "import seaborn as sns\n",
        "import io\n",
        "\n",
        "import matplotlib.pyplot as plt\n",
        "\n",
        "import tensorflow as tf\n",
        "from tensorflow.keras.layers import Dense, Input\n",
        "from tensorflow.keras import Sequential\n",
        "from tensorflow.keras.losses import MeanSquaredError\n",
        "from tensorflow.keras.activations import relu, linear"
      ]
    },
    {
      "cell_type": "markdown",
      "source": [
        "## **Loading the Dataset**"
      ],
      "metadata": {
        "id": "Q7J3SDxp9Yrg"
      }
    },
    {
      "cell_type": "markdown",
      "source": [
        "We are loading the dataset from a local host and the dataset file has been named 'House_Rent_Dataset.csv'."
      ],
      "metadata": {
        "id": "b8_dhb1d1NjG"
      }
    },
    {
      "cell_type": "code",
      "source": [
        "from google.colab import files\n",
        "uploaded = files.upload()"
      ],
      "metadata": {
        "colab": {
          "base_uri": "https://localhost:8080/",
          "height": 73
        },
        "id": "kfK4WmIc1OGf",
        "outputId": "3824125f-0186-4b75-cb0f-d1f6fad938af"
      },
      "execution_count": 2,
      "outputs": [
        {
          "output_type": "display_data",
          "data": {
            "text/plain": [
              "<IPython.core.display.HTML object>"
            ],
            "text/html": [
              "\n",
              "     <input type=\"file\" id=\"files-58063280-23ed-461a-a9dd-535edff11c32\" name=\"files[]\" multiple disabled\n",
              "        style=\"border:none\" />\n",
              "     <output id=\"result-58063280-23ed-461a-a9dd-535edff11c32\">\n",
              "      Upload widget is only available when the cell has been executed in the\n",
              "      current browser session. Please rerun this cell to enable.\n",
              "      </output>\n",
              "      <script>// Copyright 2017 Google LLC\n",
              "//\n",
              "// Licensed under the Apache License, Version 2.0 (the \"License\");\n",
              "// you may not use this file except in compliance with the License.\n",
              "// You may obtain a copy of the License at\n",
              "//\n",
              "//      http://www.apache.org/licenses/LICENSE-2.0\n",
              "//\n",
              "// Unless required by applicable law or agreed to in writing, software\n",
              "// distributed under the License is distributed on an \"AS IS\" BASIS,\n",
              "// WITHOUT WARRANTIES OR CONDITIONS OF ANY KIND, either express or implied.\n",
              "// See the License for the specific language governing permissions and\n",
              "// limitations under the License.\n",
              "\n",
              "/**\n",
              " * @fileoverview Helpers for google.colab Python module.\n",
              " */\n",
              "(function(scope) {\n",
              "function span(text, styleAttributes = {}) {\n",
              "  const element = document.createElement('span');\n",
              "  element.textContent = text;\n",
              "  for (const key of Object.keys(styleAttributes)) {\n",
              "    element.style[key] = styleAttributes[key];\n",
              "  }\n",
              "  return element;\n",
              "}\n",
              "\n",
              "// Max number of bytes which will be uploaded at a time.\n",
              "const MAX_PAYLOAD_SIZE = 100 * 1024;\n",
              "\n",
              "function _uploadFiles(inputId, outputId) {\n",
              "  const steps = uploadFilesStep(inputId, outputId);\n",
              "  const outputElement = document.getElementById(outputId);\n",
              "  // Cache steps on the outputElement to make it available for the next call\n",
              "  // to uploadFilesContinue from Python.\n",
              "  outputElement.steps = steps;\n",
              "\n",
              "  return _uploadFilesContinue(outputId);\n",
              "}\n",
              "\n",
              "// This is roughly an async generator (not supported in the browser yet),\n",
              "// where there are multiple asynchronous steps and the Python side is going\n",
              "// to poll for completion of each step.\n",
              "// This uses a Promise to block the python side on completion of each step,\n",
              "// then passes the result of the previous step as the input to the next step.\n",
              "function _uploadFilesContinue(outputId) {\n",
              "  const outputElement = document.getElementById(outputId);\n",
              "  const steps = outputElement.steps;\n",
              "\n",
              "  const next = steps.next(outputElement.lastPromiseValue);\n",
              "  return Promise.resolve(next.value.promise).then((value) => {\n",
              "    // Cache the last promise value to make it available to the next\n",
              "    // step of the generator.\n",
              "    outputElement.lastPromiseValue = value;\n",
              "    return next.value.response;\n",
              "  });\n",
              "}\n",
              "\n",
              "/**\n",
              " * Generator function which is called between each async step of the upload\n",
              " * process.\n",
              " * @param {string} inputId Element ID of the input file picker element.\n",
              " * @param {string} outputId Element ID of the output display.\n",
              " * @return {!Iterable<!Object>} Iterable of next steps.\n",
              " */\n",
              "function* uploadFilesStep(inputId, outputId) {\n",
              "  const inputElement = document.getElementById(inputId);\n",
              "  inputElement.disabled = false;\n",
              "\n",
              "  const outputElement = document.getElementById(outputId);\n",
              "  outputElement.innerHTML = '';\n",
              "\n",
              "  const pickedPromise = new Promise((resolve) => {\n",
              "    inputElement.addEventListener('change', (e) => {\n",
              "      resolve(e.target.files);\n",
              "    });\n",
              "  });\n",
              "\n",
              "  const cancel = document.createElement('button');\n",
              "  inputElement.parentElement.appendChild(cancel);\n",
              "  cancel.textContent = 'Cancel upload';\n",
              "  const cancelPromise = new Promise((resolve) => {\n",
              "    cancel.onclick = () => {\n",
              "      resolve(null);\n",
              "    };\n",
              "  });\n",
              "\n",
              "  // Wait for the user to pick the files.\n",
              "  const files = yield {\n",
              "    promise: Promise.race([pickedPromise, cancelPromise]),\n",
              "    response: {\n",
              "      action: 'starting',\n",
              "    }\n",
              "  };\n",
              "\n",
              "  cancel.remove();\n",
              "\n",
              "  // Disable the input element since further picks are not allowed.\n",
              "  inputElement.disabled = true;\n",
              "\n",
              "  if (!files) {\n",
              "    return {\n",
              "      response: {\n",
              "        action: 'complete',\n",
              "      }\n",
              "    };\n",
              "  }\n",
              "\n",
              "  for (const file of files) {\n",
              "    const li = document.createElement('li');\n",
              "    li.append(span(file.name, {fontWeight: 'bold'}));\n",
              "    li.append(span(\n",
              "        `(${file.type || 'n/a'}) - ${file.size} bytes, ` +\n",
              "        `last modified: ${\n",
              "            file.lastModifiedDate ? file.lastModifiedDate.toLocaleDateString() :\n",
              "                                    'n/a'} - `));\n",
              "    const percent = span('0% done');\n",
              "    li.appendChild(percent);\n",
              "\n",
              "    outputElement.appendChild(li);\n",
              "\n",
              "    const fileDataPromise = new Promise((resolve) => {\n",
              "      const reader = new FileReader();\n",
              "      reader.onload = (e) => {\n",
              "        resolve(e.target.result);\n",
              "      };\n",
              "      reader.readAsArrayBuffer(file);\n",
              "    });\n",
              "    // Wait for the data to be ready.\n",
              "    let fileData = yield {\n",
              "      promise: fileDataPromise,\n",
              "      response: {\n",
              "        action: 'continue',\n",
              "      }\n",
              "    };\n",
              "\n",
              "    // Use a chunked sending to avoid message size limits. See b/62115660.\n",
              "    let position = 0;\n",
              "    do {\n",
              "      const length = Math.min(fileData.byteLength - position, MAX_PAYLOAD_SIZE);\n",
              "      const chunk = new Uint8Array(fileData, position, length);\n",
              "      position += length;\n",
              "\n",
              "      const base64 = btoa(String.fromCharCode.apply(null, chunk));\n",
              "      yield {\n",
              "        response: {\n",
              "          action: 'append',\n",
              "          file: file.name,\n",
              "          data: base64,\n",
              "        },\n",
              "      };\n",
              "\n",
              "      let percentDone = fileData.byteLength === 0 ?\n",
              "          100 :\n",
              "          Math.round((position / fileData.byteLength) * 100);\n",
              "      percent.textContent = `${percentDone}% done`;\n",
              "\n",
              "    } while (position < fileData.byteLength);\n",
              "  }\n",
              "\n",
              "  // All done.\n",
              "  yield {\n",
              "    response: {\n",
              "      action: 'complete',\n",
              "    }\n",
              "  };\n",
              "}\n",
              "\n",
              "scope.google = scope.google || {};\n",
              "scope.google.colab = scope.google.colab || {};\n",
              "scope.google.colab._files = {\n",
              "  _uploadFiles,\n",
              "  _uploadFilesContinue,\n",
              "};\n",
              "})(self);\n",
              "</script> "
            ]
          },
          "metadata": {}
        },
        {
          "output_type": "stream",
          "name": "stdout",
          "text": [
            "Saving House_Rent_Dataset.csv to House_Rent_Dataset.csv\n"
          ]
        }
      ]
    },
    {
      "cell_type": "markdown",
      "source": [
        "The dataframe is read from the file uploaded in last step. We will display the head od the dataframe to get aware about the columns present."
      ],
      "metadata": {
        "id": "hTjFXJNG2LkW"
      }
    },
    {
      "cell_type": "code",
      "source": [
        "df = pd.read_csv(io.BytesIO(uploaded['House_Rent_Dataset.csv']))\n",
        "df.head()"
      ],
      "metadata": {
        "colab": {
          "base_uri": "https://localhost:8080/",
          "height": 206
        },
        "id": "QIP5c_4Y2MKQ",
        "outputId": "4d751d23-f3e2-469c-a921-9b701bf6bf32"
      },
      "execution_count": 3,
      "outputs": [
        {
          "output_type": "execute_result",
          "data": {
            "text/plain": [
              "    Posted On  BHK   Rent  Size            Floor    Area Type  \\\n",
              "0  2022-05-18    2  10000  1100  Ground out of 2   Super Area   \n",
              "1  2022-05-13    2  20000   800       1 out of 3   Super Area   \n",
              "2  2022-05-16    2  17000  1000       1 out of 3   Super Area   \n",
              "3  2022-07-04    2  10000   800       1 out of 2   Super Area   \n",
              "4  2022-05-09    2   7500   850       1 out of 2  Carpet Area   \n",
              "\n",
              "              Area Locality     City Furnishing Status  Tenant Preferred  \\\n",
              "0                    Bandel  Kolkata       Unfurnished  Bachelors/Family   \n",
              "1  Phool Bagan, Kankurgachi  Kolkata    Semi-Furnished  Bachelors/Family   \n",
              "2   Salt Lake City Sector 2  Kolkata    Semi-Furnished  Bachelors/Family   \n",
              "3               Dumdum Park  Kolkata       Unfurnished  Bachelors/Family   \n",
              "4             South Dum Dum  Kolkata       Unfurnished         Bachelors   \n",
              "\n",
              "   Bathroom Point of Contact  \n",
              "0         2    Contact Owner  \n",
              "1         1    Contact Owner  \n",
              "2         1    Contact Owner  \n",
              "3         1    Contact Owner  \n",
              "4         1    Contact Owner  "
            ],
            "text/html": [
              "\n",
              "  <div id=\"df-b27b24cd-5f69-4885-9aa6-2f9d1d42c00e\">\n",
              "    <div class=\"colab-df-container\">\n",
              "      <div>\n",
              "<style scoped>\n",
              "    .dataframe tbody tr th:only-of-type {\n",
              "        vertical-align: middle;\n",
              "    }\n",
              "\n",
              "    .dataframe tbody tr th {\n",
              "        vertical-align: top;\n",
              "    }\n",
              "\n",
              "    .dataframe thead th {\n",
              "        text-align: right;\n",
              "    }\n",
              "</style>\n",
              "<table border=\"1\" class=\"dataframe\">\n",
              "  <thead>\n",
              "    <tr style=\"text-align: right;\">\n",
              "      <th></th>\n",
              "      <th>Posted On</th>\n",
              "      <th>BHK</th>\n",
              "      <th>Rent</th>\n",
              "      <th>Size</th>\n",
              "      <th>Floor</th>\n",
              "      <th>Area Type</th>\n",
              "      <th>Area Locality</th>\n",
              "      <th>City</th>\n",
              "      <th>Furnishing Status</th>\n",
              "      <th>Tenant Preferred</th>\n",
              "      <th>Bathroom</th>\n",
              "      <th>Point of Contact</th>\n",
              "    </tr>\n",
              "  </thead>\n",
              "  <tbody>\n",
              "    <tr>\n",
              "      <th>0</th>\n",
              "      <td>2022-05-18</td>\n",
              "      <td>2</td>\n",
              "      <td>10000</td>\n",
              "      <td>1100</td>\n",
              "      <td>Ground out of 2</td>\n",
              "      <td>Super Area</td>\n",
              "      <td>Bandel</td>\n",
              "      <td>Kolkata</td>\n",
              "      <td>Unfurnished</td>\n",
              "      <td>Bachelors/Family</td>\n",
              "      <td>2</td>\n",
              "      <td>Contact Owner</td>\n",
              "    </tr>\n",
              "    <tr>\n",
              "      <th>1</th>\n",
              "      <td>2022-05-13</td>\n",
              "      <td>2</td>\n",
              "      <td>20000</td>\n",
              "      <td>800</td>\n",
              "      <td>1 out of 3</td>\n",
              "      <td>Super Area</td>\n",
              "      <td>Phool Bagan, Kankurgachi</td>\n",
              "      <td>Kolkata</td>\n",
              "      <td>Semi-Furnished</td>\n",
              "      <td>Bachelors/Family</td>\n",
              "      <td>1</td>\n",
              "      <td>Contact Owner</td>\n",
              "    </tr>\n",
              "    <tr>\n",
              "      <th>2</th>\n",
              "      <td>2022-05-16</td>\n",
              "      <td>2</td>\n",
              "      <td>17000</td>\n",
              "      <td>1000</td>\n",
              "      <td>1 out of 3</td>\n",
              "      <td>Super Area</td>\n",
              "      <td>Salt Lake City Sector 2</td>\n",
              "      <td>Kolkata</td>\n",
              "      <td>Semi-Furnished</td>\n",
              "      <td>Bachelors/Family</td>\n",
              "      <td>1</td>\n",
              "      <td>Contact Owner</td>\n",
              "    </tr>\n",
              "    <tr>\n",
              "      <th>3</th>\n",
              "      <td>2022-07-04</td>\n",
              "      <td>2</td>\n",
              "      <td>10000</td>\n",
              "      <td>800</td>\n",
              "      <td>1 out of 2</td>\n",
              "      <td>Super Area</td>\n",
              "      <td>Dumdum Park</td>\n",
              "      <td>Kolkata</td>\n",
              "      <td>Unfurnished</td>\n",
              "      <td>Bachelors/Family</td>\n",
              "      <td>1</td>\n",
              "      <td>Contact Owner</td>\n",
              "    </tr>\n",
              "    <tr>\n",
              "      <th>4</th>\n",
              "      <td>2022-05-09</td>\n",
              "      <td>2</td>\n",
              "      <td>7500</td>\n",
              "      <td>850</td>\n",
              "      <td>1 out of 2</td>\n",
              "      <td>Carpet Area</td>\n",
              "      <td>South Dum Dum</td>\n",
              "      <td>Kolkata</td>\n",
              "      <td>Unfurnished</td>\n",
              "      <td>Bachelors</td>\n",
              "      <td>1</td>\n",
              "      <td>Contact Owner</td>\n",
              "    </tr>\n",
              "  </tbody>\n",
              "</table>\n",
              "</div>\n",
              "      <button class=\"colab-df-convert\" onclick=\"convertToInteractive('df-b27b24cd-5f69-4885-9aa6-2f9d1d42c00e')\"\n",
              "              title=\"Convert this dataframe to an interactive table.\"\n",
              "              style=\"display:none;\">\n",
              "        \n",
              "  <svg xmlns=\"http://www.w3.org/2000/svg\" height=\"24px\"viewBox=\"0 0 24 24\"\n",
              "       width=\"24px\">\n",
              "    <path d=\"M0 0h24v24H0V0z\" fill=\"none\"/>\n",
              "    <path d=\"M18.56 5.44l.94 2.06.94-2.06 2.06-.94-2.06-.94-.94-2.06-.94 2.06-2.06.94zm-11 1L8.5 8.5l.94-2.06 2.06-.94-2.06-.94L8.5 2.5l-.94 2.06-2.06.94zm10 10l.94 2.06.94-2.06 2.06-.94-2.06-.94-.94-2.06-.94 2.06-2.06.94z\"/><path d=\"M17.41 7.96l-1.37-1.37c-.4-.4-.92-.59-1.43-.59-.52 0-1.04.2-1.43.59L10.3 9.45l-7.72 7.72c-.78.78-.78 2.05 0 2.83L4 21.41c.39.39.9.59 1.41.59.51 0 1.02-.2 1.41-.59l7.78-7.78 2.81-2.81c.8-.78.8-2.07 0-2.86zM5.41 20L4 18.59l7.72-7.72 1.47 1.35L5.41 20z\"/>\n",
              "  </svg>\n",
              "      </button>\n",
              "      \n",
              "  <style>\n",
              "    .colab-df-container {\n",
              "      display:flex;\n",
              "      flex-wrap:wrap;\n",
              "      gap: 12px;\n",
              "    }\n",
              "\n",
              "    .colab-df-convert {\n",
              "      background-color: #E8F0FE;\n",
              "      border: none;\n",
              "      border-radius: 50%;\n",
              "      cursor: pointer;\n",
              "      display: none;\n",
              "      fill: #1967D2;\n",
              "      height: 32px;\n",
              "      padding: 0 0 0 0;\n",
              "      width: 32px;\n",
              "    }\n",
              "\n",
              "    .colab-df-convert:hover {\n",
              "      background-color: #E2EBFA;\n",
              "      box-shadow: 0px 1px 2px rgba(60, 64, 67, 0.3), 0px 1px 3px 1px rgba(60, 64, 67, 0.15);\n",
              "      fill: #174EA6;\n",
              "    }\n",
              "\n",
              "    [theme=dark] .colab-df-convert {\n",
              "      background-color: #3B4455;\n",
              "      fill: #D2E3FC;\n",
              "    }\n",
              "\n",
              "    [theme=dark] .colab-df-convert:hover {\n",
              "      background-color: #434B5C;\n",
              "      box-shadow: 0px 1px 3px 1px rgba(0, 0, 0, 0.15);\n",
              "      filter: drop-shadow(0px 1px 2px rgba(0, 0, 0, 0.3));\n",
              "      fill: #FFFFFF;\n",
              "    }\n",
              "  </style>\n",
              "\n",
              "      <script>\n",
              "        const buttonEl =\n",
              "          document.querySelector('#df-b27b24cd-5f69-4885-9aa6-2f9d1d42c00e button.colab-df-convert');\n",
              "        buttonEl.style.display =\n",
              "          google.colab.kernel.accessAllowed ? 'block' : 'none';\n",
              "\n",
              "        async function convertToInteractive(key) {\n",
              "          const element = document.querySelector('#df-b27b24cd-5f69-4885-9aa6-2f9d1d42c00e');\n",
              "          const dataTable =\n",
              "            await google.colab.kernel.invokeFunction('convertToInteractive',\n",
              "                                                     [key], {});\n",
              "          if (!dataTable) return;\n",
              "\n",
              "          const docLinkHtml = 'Like what you see? Visit the ' +\n",
              "            '<a target=\"_blank\" href=https://colab.research.google.com/notebooks/data_table.ipynb>data table notebook</a>'\n",
              "            + ' to learn more about interactive tables.';\n",
              "          element.innerHTML = '';\n",
              "          dataTable['output_type'] = 'display_data';\n",
              "          await google.colab.output.renderOutput(dataTable, element);\n",
              "          const docLink = document.createElement('div');\n",
              "          docLink.innerHTML = docLinkHtml;\n",
              "          element.appendChild(docLink);\n",
              "        }\n",
              "      </script>\n",
              "    </div>\n",
              "  </div>\n",
              "  "
            ]
          },
          "metadata": {},
          "execution_count": 3
        }
      ]
    },
    {
      "cell_type": "markdown",
      "source": [
        "We will drop the 'Area Locality' column as it is not useful in modelling as this column has a lot many unique values."
      ],
      "metadata": {
        "id": "9fE56OSQ86x7"
      }
    },
    {
      "cell_type": "code",
      "source": [
        "df = df.drop(['Area Locality'], axis=1)"
      ],
      "metadata": {
        "id": "bc1WX1SGLVjz"
      },
      "execution_count": 4,
      "outputs": []
    },
    {
      "cell_type": "markdown",
      "source": [
        "## **Cleaning and Visualizing Data**"
      ],
      "metadata": {
        "id": "SzAv_FS__XN5"
      }
    },
    {
      "cell_type": "markdown",
      "source": [
        "We will check for any missing data in the dataset and will correct it, if it's missing. In below setp, we checked the count of null enties in each column"
      ],
      "metadata": {
        "id": "O76ZZF7j_CK2"
      }
    },
    {
      "cell_type": "code",
      "source": [
        "df.isnull().sum()"
      ],
      "metadata": {
        "colab": {
          "base_uri": "https://localhost:8080/"
        },
        "id": "WI-VxUyg5nMp",
        "outputId": "004a204b-07c3-4f81-958b-7d3cb46bc432"
      },
      "execution_count": 5,
      "outputs": [
        {
          "output_type": "execute_result",
          "data": {
            "text/plain": [
              "Posted On            0\n",
              "BHK                  0\n",
              "Rent                 0\n",
              "Size                 0\n",
              "Floor                0\n",
              "Area Type            0\n",
              "City                 0\n",
              "Furnishing Status    0\n",
              "Tenant Preferred     0\n",
              "Bathroom             0\n",
              "Point of Contact     0\n",
              "dtype: int64"
            ]
          },
          "metadata": {},
          "execution_count": 5
        }
      ]
    },
    {
      "cell_type": "markdown",
      "source": [
        "The next step describes the data in a statistical manner and gives us an overview of the data.\n",
        "It can be observed that the mean rent is about Rs. 34993.45 with a size of 967.49 sq.ft."
      ],
      "metadata": {
        "id": "IvpZCYjm9Npb"
      }
    },
    {
      "cell_type": "code",
      "source": [
        "df.describe()"
      ],
      "metadata": {
        "colab": {
          "base_uri": "https://localhost:8080/",
          "height": 300
        },
        "id": "K7Nogg1bsVj_",
        "outputId": "3a99de9b-f96f-4233-fce4-260c0f30cc47"
      },
      "execution_count": 6,
      "outputs": [
        {
          "output_type": "execute_result",
          "data": {
            "text/plain": [
              "               BHK          Rent         Size     Bathroom\n",
              "count  4746.000000  4.746000e+03  4746.000000  4746.000000\n",
              "mean      2.083860  3.499345e+04   967.490729     1.965866\n",
              "std       0.832256  7.810641e+04   634.202328     0.884532\n",
              "min       1.000000  1.200000e+03    10.000000     1.000000\n",
              "25%       2.000000  1.000000e+04   550.000000     1.000000\n",
              "50%       2.000000  1.600000e+04   850.000000     2.000000\n",
              "75%       3.000000  3.300000e+04  1200.000000     2.000000\n",
              "max       6.000000  3.500000e+06  8000.000000    10.000000"
            ],
            "text/html": [
              "\n",
              "  <div id=\"df-2d668ebd-1894-4d04-9cc5-af7001f2b3ef\">\n",
              "    <div class=\"colab-df-container\">\n",
              "      <div>\n",
              "<style scoped>\n",
              "    .dataframe tbody tr th:only-of-type {\n",
              "        vertical-align: middle;\n",
              "    }\n",
              "\n",
              "    .dataframe tbody tr th {\n",
              "        vertical-align: top;\n",
              "    }\n",
              "\n",
              "    .dataframe thead th {\n",
              "        text-align: right;\n",
              "    }\n",
              "</style>\n",
              "<table border=\"1\" class=\"dataframe\">\n",
              "  <thead>\n",
              "    <tr style=\"text-align: right;\">\n",
              "      <th></th>\n",
              "      <th>BHK</th>\n",
              "      <th>Rent</th>\n",
              "      <th>Size</th>\n",
              "      <th>Bathroom</th>\n",
              "    </tr>\n",
              "  </thead>\n",
              "  <tbody>\n",
              "    <tr>\n",
              "      <th>count</th>\n",
              "      <td>4746.000000</td>\n",
              "      <td>4.746000e+03</td>\n",
              "      <td>4746.000000</td>\n",
              "      <td>4746.000000</td>\n",
              "    </tr>\n",
              "    <tr>\n",
              "      <th>mean</th>\n",
              "      <td>2.083860</td>\n",
              "      <td>3.499345e+04</td>\n",
              "      <td>967.490729</td>\n",
              "      <td>1.965866</td>\n",
              "    </tr>\n",
              "    <tr>\n",
              "      <th>std</th>\n",
              "      <td>0.832256</td>\n",
              "      <td>7.810641e+04</td>\n",
              "      <td>634.202328</td>\n",
              "      <td>0.884532</td>\n",
              "    </tr>\n",
              "    <tr>\n",
              "      <th>min</th>\n",
              "      <td>1.000000</td>\n",
              "      <td>1.200000e+03</td>\n",
              "      <td>10.000000</td>\n",
              "      <td>1.000000</td>\n",
              "    </tr>\n",
              "    <tr>\n",
              "      <th>25%</th>\n",
              "      <td>2.000000</td>\n",
              "      <td>1.000000e+04</td>\n",
              "      <td>550.000000</td>\n",
              "      <td>1.000000</td>\n",
              "    </tr>\n",
              "    <tr>\n",
              "      <th>50%</th>\n",
              "      <td>2.000000</td>\n",
              "      <td>1.600000e+04</td>\n",
              "      <td>850.000000</td>\n",
              "      <td>2.000000</td>\n",
              "    </tr>\n",
              "    <tr>\n",
              "      <th>75%</th>\n",
              "      <td>3.000000</td>\n",
              "      <td>3.300000e+04</td>\n",
              "      <td>1200.000000</td>\n",
              "      <td>2.000000</td>\n",
              "    </tr>\n",
              "    <tr>\n",
              "      <th>max</th>\n",
              "      <td>6.000000</td>\n",
              "      <td>3.500000e+06</td>\n",
              "      <td>8000.000000</td>\n",
              "      <td>10.000000</td>\n",
              "    </tr>\n",
              "  </tbody>\n",
              "</table>\n",
              "</div>\n",
              "      <button class=\"colab-df-convert\" onclick=\"convertToInteractive('df-2d668ebd-1894-4d04-9cc5-af7001f2b3ef')\"\n",
              "              title=\"Convert this dataframe to an interactive table.\"\n",
              "              style=\"display:none;\">\n",
              "        \n",
              "  <svg xmlns=\"http://www.w3.org/2000/svg\" height=\"24px\"viewBox=\"0 0 24 24\"\n",
              "       width=\"24px\">\n",
              "    <path d=\"M0 0h24v24H0V0z\" fill=\"none\"/>\n",
              "    <path d=\"M18.56 5.44l.94 2.06.94-2.06 2.06-.94-2.06-.94-.94-2.06-.94 2.06-2.06.94zm-11 1L8.5 8.5l.94-2.06 2.06-.94-2.06-.94L8.5 2.5l-.94 2.06-2.06.94zm10 10l.94 2.06.94-2.06 2.06-.94-2.06-.94-.94-2.06-.94 2.06-2.06.94z\"/><path d=\"M17.41 7.96l-1.37-1.37c-.4-.4-.92-.59-1.43-.59-.52 0-1.04.2-1.43.59L10.3 9.45l-7.72 7.72c-.78.78-.78 2.05 0 2.83L4 21.41c.39.39.9.59 1.41.59.51 0 1.02-.2 1.41-.59l7.78-7.78 2.81-2.81c.8-.78.8-2.07 0-2.86zM5.41 20L4 18.59l7.72-7.72 1.47 1.35L5.41 20z\"/>\n",
              "  </svg>\n",
              "      </button>\n",
              "      \n",
              "  <style>\n",
              "    .colab-df-container {\n",
              "      display:flex;\n",
              "      flex-wrap:wrap;\n",
              "      gap: 12px;\n",
              "    }\n",
              "\n",
              "    .colab-df-convert {\n",
              "      background-color: #E8F0FE;\n",
              "      border: none;\n",
              "      border-radius: 50%;\n",
              "      cursor: pointer;\n",
              "      display: none;\n",
              "      fill: #1967D2;\n",
              "      height: 32px;\n",
              "      padding: 0 0 0 0;\n",
              "      width: 32px;\n",
              "    }\n",
              "\n",
              "    .colab-df-convert:hover {\n",
              "      background-color: #E2EBFA;\n",
              "      box-shadow: 0px 1px 2px rgba(60, 64, 67, 0.3), 0px 1px 3px 1px rgba(60, 64, 67, 0.15);\n",
              "      fill: #174EA6;\n",
              "    }\n",
              "\n",
              "    [theme=dark] .colab-df-convert {\n",
              "      background-color: #3B4455;\n",
              "      fill: #D2E3FC;\n",
              "    }\n",
              "\n",
              "    [theme=dark] .colab-df-convert:hover {\n",
              "      background-color: #434B5C;\n",
              "      box-shadow: 0px 1px 3px 1px rgba(0, 0, 0, 0.15);\n",
              "      filter: drop-shadow(0px 1px 2px rgba(0, 0, 0, 0.3));\n",
              "      fill: #FFFFFF;\n",
              "    }\n",
              "  </style>\n",
              "\n",
              "      <script>\n",
              "        const buttonEl =\n",
              "          document.querySelector('#df-2d668ebd-1894-4d04-9cc5-af7001f2b3ef button.colab-df-convert');\n",
              "        buttonEl.style.display =\n",
              "          google.colab.kernel.accessAllowed ? 'block' : 'none';\n",
              "\n",
              "        async function convertToInteractive(key) {\n",
              "          const element = document.querySelector('#df-2d668ebd-1894-4d04-9cc5-af7001f2b3ef');\n",
              "          const dataTable =\n",
              "            await google.colab.kernel.invokeFunction('convertToInteractive',\n",
              "                                                     [key], {});\n",
              "          if (!dataTable) return;\n",
              "\n",
              "          const docLinkHtml = 'Like what you see? Visit the ' +\n",
              "            '<a target=\"_blank\" href=https://colab.research.google.com/notebooks/data_table.ipynb>data table notebook</a>'\n",
              "            + ' to learn more about interactive tables.';\n",
              "          element.innerHTML = '';\n",
              "          dataTable['output_type'] = 'display_data';\n",
              "          await google.colab.output.renderOutput(dataTable, element);\n",
              "          const docLink = document.createElement('div');\n",
              "          docLink.innerHTML = docLinkHtml;\n",
              "          element.appendChild(docLink);\n",
              "        }\n",
              "      </script>\n",
              "    </div>\n",
              "  </div>\n",
              "  "
            ]
          },
          "metadata": {},
          "execution_count": 6
        }
      ]
    },
    {
      "cell_type": "markdown",
      "source": [
        "In the below step, we have plotted a bar graph for House Rent in different Indian Cities based on Tenant Preferred. As per the plot, Bangalore, Delhi, Chennai and Kolkata have highest rents for Bachelor Tenants, whereas Hyderabad has highest rent for Family and Mumbai has higher rent for those properties, where this no particular preference."
      ],
      "metadata": {
        "id": "zANK2PZJ_v1P"
      }
    },
    {
      "cell_type": "code",
      "source": [
        "sns.barplot(x=df['City'], y=df['Rent'], hue=df['Tenant Preferred'], ci=None)\n",
        "plt.ylabel(\"Rent (in Rs.)\")\n",
        "plt.title('Rents in Indian Cities as per Tenant Preferred')"
      ],
      "metadata": {
        "colab": {
          "base_uri": "https://localhost:8080/",
          "height": 312
        },
        "id": "EKdizAZl11-N",
        "outputId": "baba806f-dfb6-4546-ab57-7cdce7680faa"
      },
      "execution_count": 7,
      "outputs": [
        {
          "output_type": "execute_result",
          "data": {
            "text/plain": [
              "Text(0.5, 1.0, 'Rents in Indian Cities as per Tenant Preferred')"
            ]
          },
          "metadata": {},
          "execution_count": 7
        },
        {
          "output_type": "display_data",
          "data": {
            "text/plain": [
              "<Figure size 432x288 with 1 Axes>"
            ],
            "image/png": "[encoded data removed]"
          },
          "metadata": {
            "needs_background": "light"
          }
        }
      ]
    },
    {
      "cell_type": "markdown",
      "source": [
        "In the below step, we have plotted a bar graph for House Rent in different Indian Cities based on BHK. As per the plot, almost all cities have an increasing trend of rent with BHK."
      ],
      "metadata": {
        "id": "bZKts3hHBK4I"
      }
    },
    {
      "cell_type": "code",
      "source": [
        "sns.barplot(x=df['City'], y=df['Rent'], hue=df['BHK'], ci=None)\n",
        "plt.ylabel(\"Rent (in Rs.)\")\n",
        "plt.title('Rents in Indian Cities as per BHK')"
      ],
      "metadata": {
        "colab": {
          "base_uri": "https://localhost:8080/",
          "height": 312
        },
        "id": "4yBowd3ItDQl",
        "outputId": "89feb99a-5370-4f76-bcbc-9a730fcf0407"
      },
      "execution_count": 8,
      "outputs": [
        {
          "output_type": "execute_result",
          "data": {
            "text/plain": [
              "Text(0.5, 1.0, 'Rents in Indian Cities as per BHK')"
            ]
          },
          "metadata": {},
          "execution_count": 8
        },
        {
          "output_type": "display_data",
          "data": {
            "text/plain": [
              "<Figure size 432x288 with 1 Axes>"
            ],
            "image/png": "[encoded data removed]"
          },
          "metadata": {
            "needs_background": "light"
          }
        }
      ]
    },
    {
      "cell_type": "markdown",
      "source": [
        "In the below step, we have plotted a bar graph for House Rent in different Indian Cities based on Furnishing Status. As per the plot, all cities have lowest rent for unfurnished houses followed by semi-furnished and highest for furnished."
      ],
      "metadata": {
        "id": "osqkbchDCAFF"
      }
    },
    {
      "cell_type": "code",
      "source": [
        "sns.barplot(x=df['City'], y=df['Rent'], hue=df['Furnishing Status'], ci=None)\n",
        "plt.ylabel(\"Rent (in Rs.)\")\n",
        "plt.title('Rents in Indian Cities as per Furnishing Status')"
      ],
      "metadata": {
        "colab": {
          "base_uri": "https://localhost:8080/",
          "height": 312
        },
        "id": "5ypPZBp96WUq",
        "outputId": "580aa671-901e-442b-e667-40f0a5adf381"
      },
      "execution_count": 9,
      "outputs": [
        {
          "output_type": "execute_result",
          "data": {
            "text/plain": [
              "Text(0.5, 1.0, 'Rents in Indian Cities as per Furnishing Status')"
            ]
          },
          "metadata": {},
          "execution_count": 9
        },
        {
          "output_type": "display_data",
          "data": {
            "text/plain": [
              "<Figure size 432x288 with 1 Axes>"
            ],
            "image/png": "[encoded data removed]"
          },
          "metadata": {
            "needs_background": "light"
          }
        }
      ]
    },
    {
      "cell_type": "markdown",
      "source": [
        "In the below step, we have plotted a bar graph for House Rent in different Indian Cities based on Area Type. As per the plot, all cities have lowest rent for built area followed by super area and highest for carpet area."
      ],
      "metadata": {
        "id": "Od6tU6lsCWWp"
      }
    },
    {
      "cell_type": "code",
      "source": [
        "sns.barplot(x=df['City'], y=df['Rent'], hue=df['Area Type'], ci=None)\n",
        "plt.ylabel(\"Rent (in Rs.)\")\n",
        "plt.title('Rents in Indian Cities as per Area Type')"
      ],
      "metadata": {
        "colab": {
          "base_uri": "https://localhost:8080/",
          "height": 312
        },
        "id": "9_7gesU21pr6",
        "outputId": "aea8e242-d556-44b2-ec4b-508a349abf12"
      },
      "execution_count": 10,
      "outputs": [
        {
          "output_type": "execute_result",
          "data": {
            "text/plain": [
              "Text(0.5, 1.0, 'Rents in Indian Cities as per Area Type')"
            ]
          },
          "metadata": {},
          "execution_count": 10
        },
        {
          "output_type": "display_data",
          "data": {
            "text/plain": [
              "<Figure size 432x288 with 1 Axes>"
            ],
            "image/png": "[encoded data removed]"
          },
          "metadata": {
            "needs_background": "light"
          }
        }
      ]
    },
    {
      "cell_type": "markdown",
      "source": [
        "## **Data Pre-processing**"
      ],
      "metadata": {
        "id": "otiDq0Da3gcX"
      }
    },
    {
      "cell_type": "markdown",
      "source": [
        "Firstly, we will setup the *ColumnTransfer*, which combines the job of *LabelEncodder* and *OneHotEncoder*, so that we can convert the categorical data we have into features, which can be processed by the models built later easily, to generate insights."
      ],
      "metadata": {
        "id": "Nj3bWHWDC_L_"
      }
    },
    {
      "cell_type": "code",
      "source": [
        "oh = OneHotEncoder(drop = 'first', handle_unknown = 'ignore')\n",
        "\n",
        "ms, ss = MinMaxScaler(), StandardScaler()\n",
        "\n",
        "ct = ColumnTransformer([\n",
        "    ('cat_encoder', oh, make_column_selector(dtype_include = 'object')),\n",
        "    ('num_encoder', ms, make_column_selector(dtype_include = 'float64'))\n",
        "], remainder = 'passthrough', n_jobs = -1)"
      ],
      "metadata": {
        "id": "P5fzYRtWNO3N"
      },
      "execution_count": null,
      "outputs": []
    },
    {
      "cell_type": "markdown",
      "source": [
        "We will split the data in *X* and *Y*. The test size is 20% of the entire data, which would be chosen randomly. Further, as *Y* is a 1D numpy array, it is reshaped as a 2D array for simplifying the steps later."
      ],
      "metadata": {
        "id": "d15Ivs_sEmxO"
      }
    },
    {
      "cell_type": "code",
      "source": [
        "X = df.drop(['Rent'], axis=1)\n",
        "Y = df['Rent']\n",
        "\n",
        "X_train, X_test, Y_train, Y_test = train_test_split(X, Y, test_size=0.2, random_state=0)\n",
        "\n",
        "Y_train = Y_train.values.reshape(-1,1)\n",
        "Y_test = Y_test.values.reshape(-1,1)\n",
        "print(X_train.shape)\n",
        "print(X_test.shape)\n",
        "print(Y_train.shape)\n",
        "print(Y_test.shape)"
      ],
      "metadata": {
        "colab": {
          "base_uri": "https://localhost:8080/"
        },
        "id": "CqmAWUKs3iQe",
        "outputId": "dc7d5837-d478-4304-bcbd-c0ad5806d182"
      },
      "execution_count": null,
      "outputs": [
        {
          "output_type": "stream",
          "name": "stdout",
          "text": [
            "(3796, 10)\n",
            "(950, 10)\n",
            "(3796, 1)\n",
            "(950, 1)\n"
          ]
        }
      ]
    },
    {
      "cell_type": "markdown",
      "source": [
        "We will transform the columns of the data using the *ColumnTransform* function built earlier."
      ],
      "metadata": {
        "id": "74YtoV2dFMne"
      }
    },
    {
      "cell_type": "code",
      "source": [
        "X_train = ct.transform(X_train)\n",
        "X_test = ct.transform(X_test)\n",
        "print(X_train.shape)\n",
        "print(X_test.shape)"
      ],
      "metadata": {
        "id": "at0lMb3fOMyp",
        "colab": {
          "base_uri": "https://localhost:8080/"
        },
        "outputId": "2d09f416-089c-4a61-84d1-76135539b4cf"
      },
      "execution_count": null,
      "outputs": [
        {
          "output_type": "stream",
          "name": "stdout",
          "text": [
            "(3796, 514)\n",
            "(950, 514)\n"
          ]
        }
      ]
    },
    {
      "cell_type": "markdown",
      "source": [
        "## **Modelling Data**"
      ],
      "metadata": {
        "id": "gZDC8T5V4OD6"
      }
    },
    {
      "cell_type": "markdown",
      "source": [
        "### **Linear Regression**"
      ],
      "metadata": {
        "id": "_9m7uDVYFp1v"
      }
    },
    {
      "cell_type": "markdown",
      "source": [
        "In this model, we will use scikit-learn to model the data using **Linear** **Regression**. In this step, we are defining the *LinearRegression()* model and then fitting it to the training set."
      ],
      "metadata": {
        "id": "zWR63ggvFzSP"
      }
    },
    {
      "cell_type": "code",
      "source": [
        "lin_model = LinearRegression()\n",
        "lin_model.fit(X_train, Y_train)"
      ],
      "metadata": {
        "colab": {
          "base_uri": "https://localhost:8080/"
        },
        "id": "8IWOnMtn4OcY",
        "outputId": "c2f1fe48-9fd2-44c9-889e-82632c31e5c0"
      },
      "execution_count": null,
      "outputs": [
        {
          "output_type": "execute_result",
          "data": {
            "text/plain": [
              "LinearRegression()"
            ]
          },
          "metadata": {},
          "execution_count": 139
        }
      ]
    },
    {
      "cell_type": "markdown",
      "source": [
        "In this step, we are finding the prediction using the trained model of linear regression using the inputs X for training and test sets and compare the prediction (output) values with the target values Y we have beforehand."
      ],
      "metadata": {
        "id": "6haI2gTIGIXK"
      }
    },
    {
      "cell_type": "code",
      "source": [
        "Y_train_pred_linreg = lin_model.predict(X_train)\n",
        "MAE_train_linreg = mean_absolute_error(Y_train, Y_train_pred_linreg)\n",
        "print(\"Linear Regression Output:-\")\n",
        "print(\"The MAE on training set is Rs. {:.2f}\".format(MAE_train_linreg))\n",
        "\n",
        "Y_test_pred_linreg = lin_model.predict(X_test)\n",
        "MAE_test_linreg = mean_absolute_error(Y_test, Y_test_pred_linreg)\n",
        "print(\"The MAE on testing set is Rs. {:.2f}\".format(MAE_test_linreg))"
      ],
      "metadata": {
        "colab": {
          "base_uri": "https://localhost:8080/"
        },
        "id": "eCG_n66e5v2W",
        "outputId": "3ceda555-0da7-4ab6-c7ee-0519f3c33711"
      },
      "execution_count": null,
      "outputs": [
        {
          "output_type": "stream",
          "name": "stdout",
          "text": [
            "Linear Regression Output:-\n",
            "The MAE on training set is Rs. 14322.77\n",
            "The MAE on testing set is Rs. 26130.57\n"
          ]
        }
      ]
    },
    {
      "cell_type": "markdown",
      "source": [
        "### **Random Forest**"
      ],
      "metadata": {
        "id": "ER3UJ-l62WSt"
      }
    },
    {
      "cell_type": "markdown",
      "source": [
        "In this model, we will use scikit-learn to model the data using Random Forest. In this step, we are defining the *RandomForestRegressor()* model and then fitting it to the training set.\n",
        "The *n_estimators* denotes the number of decision trees used in the model and *min_samples_leaf* is minimum number of samples in a leaf."
      ],
      "metadata": {
        "id": "5LZOunQKD_7D"
      }
    },
    {
      "cell_type": "code",
      "source": [
        "model_RF = RandomForestRegressor(n_estimators=100, min_samples_leaf=1)\n",
        "Y_train_RF = Y_train.reshape(-1)\n",
        "Y_test_RF = Y_test.reshape(-1)\n",
        "model_RF.fit(X_train, Y_train_RF)"
      ],
      "metadata": {
        "colab": {
          "base_uri": "https://localhost:8080/"
        },
        "id": "ziS-tIYr2bCq",
        "outputId": "d683168a-c4cd-4918-ea4f-2587831151a4"
      },
      "execution_count": null,
      "outputs": [
        {
          "output_type": "execute_result",
          "data": {
            "text/plain": [
              "RandomForestRegressor()"
            ]
          },
          "metadata": {},
          "execution_count": 221
        }
      ]
    },
    {
      "cell_type": "markdown",
      "source": [
        "The accuracy on training and test sets is printed below. It can be seen that the model is overfitting the data. However, after tuning the parameters for Random Forest, any significant improvement is not observed in performance."
      ],
      "metadata": {
        "id": "R6V6pqYlF71y"
      }
    },
    {
      "cell_type": "code",
      "source": [
        "print(\"Random Forest Output:-\")\n",
        "print(\"The accuracy on training set is {:.2f} %\".format(model_RF.score(X_train, Y_train_RF)*100))\n",
        "print(\"The accuracy on testing set is {:.2f} %\".format(model_RF.score(X_test, Y_test_RF)*100))"
      ],
      "metadata": {
        "colab": {
          "base_uri": "https://localhost:8080/"
        },
        "id": "fAqANr9c2l8S",
        "outputId": "daf60a4c-eb5d-44d4-8871-984252df4db5"
      },
      "execution_count": null,
      "outputs": [
        {
          "output_type": "stream",
          "name": "stdout",
          "text": [
            "Random Forest Output:-\n",
            "The accuracy on training set is 95.49 %\n",
            "The accuracy on testing set is 22.52 %\n"
          ]
        }
      ]
    },
    {
      "cell_type": "markdown",
      "source": [
        "Even the MAE indicates that the cost function is higher for test set as compared to training set."
      ],
      "metadata": {
        "id": "Qwy8xo_jInON"
      }
    },
    {
      "cell_type": "code",
      "source": [
        "Y_train_pred_RF = model_RF.predict(X_train)\n",
        "MAE_train_RF = mean_absolute_error(Y_train, Y_train_pred_RF)\n",
        "print(\"The MAE on training set is Rs. {:.2f}\".format(MAE_train_RF))\n",
        "\n",
        "Y_test_pred_RF = lin_model.predict(X_test)\n",
        "MAE_test_RF = mean_absolute_error(Y_test, Y_test_pred_RF)\n",
        "print(\"The MAE on testing set is Rs. {:.2f}\".format(MAE_test_RF))"
      ],
      "metadata": {
        "colab": {
          "base_uri": "https://localhost:8080/"
        },
        "id": "kvUeP_-F3Fjg",
        "outputId": "f15fe370-d709-4d81-9153-4f96c82be0e9"
      },
      "execution_count": null,
      "outputs": [
        {
          "output_type": "stream",
          "name": "stdout",
          "text": [
            "The MAE on training set is Rs. 4186.34\n",
            "The MAE on testing set is Rs. 26130.57\n"
          ]
        }
      ]
    },
    {
      "cell_type": "markdown",
      "source": [
        "### **XGBoost**"
      ],
      "metadata": {
        "id": "YdLvXDuOsBO1"
      }
    },
    {
      "cell_type": "markdown",
      "source": [
        "In this model, we will use scikit-learn to model the data using XGBoost. In this step, we are defining the XGBRegressor() model and then fitting it to the training set."
      ],
      "metadata": {
        "id": "AiIuDa5OJbc-"
      }
    },
    {
      "cell_type": "code",
      "source": [
        "model_XGB = XGBRegressor()\n",
        "fitted_data_XGB = model_XGB.fit(X_train, Y_train)"
      ],
      "metadata": {
        "colab": {
          "base_uri": "https://localhost:8080/"
        },
        "id": "zfYQZpAmsA5o",
        "outputId": "45a2c189-c9ce-47ef-e272-ea7aea63989b"
      },
      "execution_count": null,
      "outputs": [
        {
          "output_type": "stream",
          "name": "stdout",
          "text": [
            "[08:56:01] WARNING: /workspace/src/objective/regression_obj.cu:152: reg:linear is now deprecated in favor of reg:squarederror.\n"
          ]
        }
      ]
    },
    {
      "cell_type": "markdown",
      "source": [
        "The MAE using XGBoost for test set is fairly close to training set and hence, in the three models seen so far, XGBoost has best performance."
      ],
      "metadata": {
        "id": "C4vlnDJIKLq_"
      }
    },
    {
      "cell_type": "code",
      "source": [
        "Y_train_pred_XGB = model_XGB.predict(X_train)\n",
        "MAE_train_XGB = mean_absolute_error(Y_train, Y_train_pred_XGB)\n",
        "print(\"XGBoost Output:-\")\n",
        "print(\"The MAE on training set is Rs. {:.2f}\".format(MAE_train_XGB))\n",
        "\n",
        "Y_test_pred_XGB = model_XGB.predict(X_test)\n",
        "MAE_test_XGB = mean_absolute_error(Y_test, Y_test_pred_XGB)\n",
        "print(\"The MAE on testing set is Rs. {:.2f}\".format(MAE_test_XGB))"
      ],
      "metadata": {
        "colab": {
          "base_uri": "https://localhost:8080/"
        },
        "id": "NE_QBja8u1zk",
        "outputId": "fc0fdd3d-854d-447d-b024-bc3b9f2af8da"
      },
      "execution_count": null,
      "outputs": [
        {
          "output_type": "stream",
          "name": "stdout",
          "text": [
            "XGBoost Output:-\n",
            "The MAE on training set is Rs. 10366.52\n",
            "The MAE on testing set is Rs. 16692.63\n"
          ]
        }
      ]
    },
    {
      "cell_type": "markdown",
      "source": [
        "### **Neural Network**"
      ],
      "metadata": {
        "id": "3CMZZDP2fON5"
      }
    },
    {
      "cell_type": "markdown",
      "source": [
        "In a Neural Network model, we are using 6 hidden layers with 5 layers having ReLU activation functions and the last layer having linear activation function."
      ],
      "metadata": {
        "id": "7j-2bd-QLaGE"
      }
    },
    {
      "cell_type": "code",
      "source": [
        "model_NN = Sequential([\n",
        "    Dense(units=256, activation='relu'),\n",
        "    Dense(units=128, activation='relu'),\n",
        "    Dense(units=32, activation='relu'),\n",
        "    Dense(units=8, activation='relu'),\n",
        "    Dense(units=4, activation='relu'),\n",
        "    Dense(units=1, activation='linear'),\n",
        "])"
      ],
      "metadata": {
        "id": "fv7ane1VfUZ-"
      },
      "execution_count": null,
      "outputs": []
    },
    {
      "cell_type": "markdown",
      "source": [
        "The model is optimized by using Adam Optimizer with an initial learning rate of 0.0005, and the loss function is Mean Squared Error. The metric used is accuracy for optimizers."
      ],
      "metadata": {
        "id": "oMnvJfS0MEw3"
      }
    },
    {
      "cell_type": "code",
      "source": [
        "model_NN.compile(optimizer=tf.keras.optimizers.Adam(learning_rate=5e-4), loss=MeanSquaredError(), metrics=['accuracy'])"
      ],
      "metadata": {
        "id": "l-RyXVK1fYgd"
      },
      "execution_count": null,
      "outputs": []
    },
    {
      "cell_type": "markdown",
      "source": [
        "The model is now fitted on the training set, with 150 epochs. The learning rate and number of epochs is tuned for achieving higher performance."
      ],
      "metadata": {
        "id": "2OnQlSdwMqaF"
      }
    },
    {
      "cell_type": "code",
      "source": [
        "n_epoch = 150\n",
        "fitted_data_NN = model_NN.fit(X_train, Y_train, epochs=n_epoch)"
      ],
      "metadata": {
        "colab": {
          "base_uri": "https://localhost:8080/"
        },
        "id": "vASPFGEXfav0",
        "outputId": "6c7edc8f-20dd-4983-d411-7bfa14cf6483"
      },
      "execution_count": null,
      "outputs": [
        {
          "output_type": "stream",
          "name": "stdout",
          "text": [
            "Epoch 1/150\n",
            "119/119 [==============================] - 2s 6ms/step - loss: 3904306688.0000 - accuracy: 0.0000e+00\n",
            "Epoch 2/150\n",
            "119/119 [==============================] - 2s 14ms/step - loss: 2394500608.0000 - accuracy: 0.0000e+00\n",
            "Epoch 3/150\n",
            "119/119 [==============================] - 1s 12ms/step - loss: 2340429056.0000 - accuracy: 0.0000e+00\n",
            "Epoch 4/150\n",
            "119/119 [==============================] - 1s 6ms/step - loss: 2337884672.0000 - accuracy: 0.0000e+00\n",
            "Epoch 5/150\n",
            "119/119 [==============================] - 1s 5ms/step - loss: 2330914304.0000 - accuracy: 0.0000e+00\n",
            "Epoch 6/150\n",
            "119/119 [==============================] - 1s 5ms/step - loss: 2332327168.0000 - accuracy: 0.0000e+00\n",
            "Epoch 7/150\n",
            "119/119 [==============================] - 1s 5ms/step - loss: 2332915200.0000 - accuracy: 0.0000e+00\n",
            "Epoch 8/150\n",
            "119/119 [==============================] - 1s 5ms/step - loss: 2330257408.0000 - accuracy: 0.0000e+00\n",
            "Epoch 9/150\n",
            "119/119 [==============================] - 1s 5ms/step - loss: 2328174592.0000 - accuracy: 0.0000e+00\n",
            "Epoch 10/150\n",
            "119/119 [==============================] - 1s 5ms/step - loss: 2328929024.0000 - accuracy: 0.0000e+00\n",
            "Epoch 11/150\n",
            "119/119 [==============================] - 1s 5ms/step - loss: 2328414464.0000 - accuracy: 0.0000e+00\n",
            "Epoch 12/150\n",
            "119/119 [==============================] - 1s 5ms/step - loss: 2316443136.0000 - accuracy: 0.0000e+00\n",
            "Epoch 13/150\n",
            "119/119 [==============================] - 1s 7ms/step - loss: 2328383488.0000 - accuracy: 0.0000e+00\n",
            "Epoch 14/150\n",
            "119/119 [==============================] - 1s 9ms/step - loss: 2312970752.0000 - accuracy: 0.0000e+00\n",
            "Epoch 15/150\n",
            "119/119 [==============================] - 1s 8ms/step - loss: 2309539584.0000 - accuracy: 0.0000e+00\n",
            "Epoch 16/150\n",
            "119/119 [==============================] - 1s 5ms/step - loss: 2314620672.0000 - accuracy: 0.0000e+00\n",
            "Epoch 17/150\n",
            "119/119 [==============================] - 1s 5ms/step - loss: 2310119936.0000 - accuracy: 0.0000e+00\n",
            "Epoch 18/150\n",
            "119/119 [==============================] - 1s 5ms/step - loss: 2302500096.0000 - accuracy: 0.0000e+00\n",
            "Epoch 19/150\n",
            "119/119 [==============================] - 1s 5ms/step - loss: 2300643584.0000 - accuracy: 0.0000e+00\n",
            "Epoch 20/150\n",
            "119/119 [==============================] - 1s 5ms/step - loss: 2296475136.0000 - accuracy: 0.0000e+00\n",
            "Epoch 21/150\n",
            "119/119 [==============================] - 1s 5ms/step - loss: 2301919232.0000 - accuracy: 0.0000e+00\n",
            "Epoch 22/150\n",
            "119/119 [==============================] - 1s 10ms/step - loss: 2295193600.0000 - accuracy: 0.0000e+00\n",
            "Epoch 23/150\n",
            "119/119 [==============================] - 1s 9ms/step - loss: 2289075456.0000 - accuracy: 0.0000e+00\n",
            "Epoch 24/150\n",
            "119/119 [==============================] - 1s 5ms/step - loss: 2282127616.0000 - accuracy: 0.0000e+00\n",
            "Epoch 25/150\n",
            "119/119 [==============================] - 1s 5ms/step - loss: 2278101248.0000 - accuracy: 0.0000e+00\n",
            "Epoch 26/150\n",
            "119/119 [==============================] - 1s 5ms/step - loss: 2283356160.0000 - accuracy: 0.0000e+00\n",
            "Epoch 27/150\n",
            "119/119 [==============================] - 1s 8ms/step - loss: 2273900800.0000 - accuracy: 0.0000e+00\n",
            "Epoch 28/150\n",
            "119/119 [==============================] - 2s 13ms/step - loss: 2266813184.0000 - accuracy: 0.0000e+00\n",
            "Epoch 29/150\n",
            "119/119 [==============================] - 2s 12ms/step - loss: 2266821888.0000 - accuracy: 0.0000e+00\n",
            "Epoch 30/150\n",
            "119/119 [==============================] - 1s 6ms/step - loss: 2255825408.0000 - accuracy: 0.0000e+00\n",
            "Epoch 31/150\n",
            "119/119 [==============================] - 1s 5ms/step - loss: 2258820096.0000 - accuracy: 0.0000e+00\n",
            "Epoch 32/150\n",
            "119/119 [==============================] - 1s 5ms/step - loss: 2245720832.0000 - accuracy: 0.0000e+00\n",
            "Epoch 33/150\n",
            "119/119 [==============================] - 1s 5ms/step - loss: 2241400064.0000 - accuracy: 0.0000e+00\n",
            "Epoch 34/150\n",
            "119/119 [==============================] - 1s 5ms/step - loss: 2226180096.0000 - accuracy: 0.0000e+00\n",
            "Epoch 35/150\n",
            "119/119 [==============================] - 1s 5ms/step - loss: 2227073536.0000 - accuracy: 0.0000e+00\n",
            "Epoch 36/150\n",
            "119/119 [==============================] - 1s 5ms/step - loss: 2203755776.0000 - accuracy: 0.0000e+00\n",
            "Epoch 37/150\n",
            "119/119 [==============================] - 1s 5ms/step - loss: 2206779648.0000 - accuracy: 0.0000e+00\n",
            "Epoch 38/150\n",
            "119/119 [==============================] - 1s 5ms/step - loss: 2199364864.0000 - accuracy: 0.0000e+00\n",
            "Epoch 39/150\n",
            "119/119 [==============================] - 1s 5ms/step - loss: 2176262656.0000 - accuracy: 0.0000e+00\n",
            "Epoch 40/150\n",
            "119/119 [==============================] - 1s 5ms/step - loss: 2175426048.0000 - accuracy: 0.0000e+00\n",
            "Epoch 41/150\n",
            "119/119 [==============================] - 1s 5ms/step - loss: 2126148224.0000 - accuracy: 0.0000e+00\n",
            "Epoch 42/150\n",
            "119/119 [==============================] - 1s 9ms/step - loss: 2127241088.0000 - accuracy: 0.0000e+00\n",
            "Epoch 43/150\n",
            "119/119 [==============================] - 1s 9ms/step - loss: 2110683520.0000 - accuracy: 0.0000e+00\n",
            "Epoch 44/150\n",
            "119/119 [==============================] - 1s 5ms/step - loss: 2081800320.0000 - accuracy: 0.0000e+00\n",
            "Epoch 45/150\n",
            "119/119 [==============================] - 1s 5ms/step - loss: 1982014976.0000 - accuracy: 0.0000e+00\n",
            "Epoch 46/150\n",
            "119/119 [==============================] - 1s 5ms/step - loss: 1911758720.0000 - accuracy: 0.0000e+00\n",
            "Epoch 47/150\n",
            "119/119 [==============================] - 1s 5ms/step - loss: 1735985920.0000 - accuracy: 0.0000e+00\n",
            "Epoch 48/150\n",
            "119/119 [==============================] - 1s 5ms/step - loss: 1681718016.0000 - accuracy: 0.0000e+00\n",
            "Epoch 49/150\n",
            "119/119 [==============================] - 1s 5ms/step - loss: 1590594176.0000 - accuracy: 0.0000e+00\n",
            "Epoch 50/150\n",
            "119/119 [==============================] - 1s 5ms/step - loss: 1495758848.0000 - accuracy: 0.0000e+00\n",
            "Epoch 51/150\n",
            "119/119 [==============================] - 1s 5ms/step - loss: 1458985728.0000 - accuracy: 0.0000e+00\n",
            "Epoch 52/150\n",
            "119/119 [==============================] - 1s 5ms/step - loss: 1377291904.0000 - accuracy: 0.0000e+00\n",
            "Epoch 53/150\n",
            "119/119 [==============================] - 1s 5ms/step - loss: 1390262656.0000 - accuracy: 0.0000e+00\n",
            "Epoch 54/150\n",
            "119/119 [==============================] - 1s 5ms/step - loss: 1352009472.0000 - accuracy: 0.0000e+00\n",
            "Epoch 55/150\n",
            "119/119 [==============================] - 1s 5ms/step - loss: 1343808000.0000 - accuracy: 0.0000e+00\n",
            "Epoch 56/150\n",
            "119/119 [==============================] - 1s 5ms/step - loss: 1370104960.0000 - accuracy: 0.0000e+00\n",
            "Epoch 57/150\n",
            "119/119 [==============================] - 1s 5ms/step - loss: 1295894272.0000 - accuracy: 0.0000e+00\n",
            "Epoch 58/150\n",
            "119/119 [==============================] - 1s 9ms/step - loss: 1302678912.0000 - accuracy: 0.0000e+00\n",
            "Epoch 59/150\n",
            "119/119 [==============================] - 1s 9ms/step - loss: 1260384512.0000 - accuracy: 0.0000e+00\n",
            "Epoch 60/150\n",
            "119/119 [==============================] - 1s 7ms/step - loss: 1262579712.0000 - accuracy: 0.0000e+00\n",
            "Epoch 61/150\n",
            "119/119 [==============================] - 1s 5ms/step - loss: 1287384064.0000 - accuracy: 0.0000e+00\n",
            "Epoch 62/150\n",
            "119/119 [==============================] - 1s 5ms/step - loss: 1258574080.0000 - accuracy: 0.0000e+00\n",
            "Epoch 63/150\n",
            "119/119 [==============================] - 1s 5ms/step - loss: 1285411840.0000 - accuracy: 0.0000e+00\n",
            "Epoch 64/150\n",
            "119/119 [==============================] - 1s 5ms/step - loss: 1283779328.0000 - accuracy: 0.0000e+00\n",
            "Epoch 65/150\n",
            "119/119 [==============================] - 1s 5ms/step - loss: 1238745472.0000 - accuracy: 0.0000e+00\n",
            "Epoch 66/150\n",
            "119/119 [==============================] - 1s 5ms/step - loss: 1285991168.0000 - accuracy: 0.0000e+00\n",
            "Epoch 67/150\n",
            "119/119 [==============================] - 1s 5ms/step - loss: 1202365824.0000 - accuracy: 0.0000e+00\n",
            "Epoch 68/150\n",
            "119/119 [==============================] - 1s 5ms/step - loss: 1219511040.0000 - accuracy: 0.0000e+00\n",
            "Epoch 69/150\n",
            "119/119 [==============================] - 1s 5ms/step - loss: 1177879296.0000 - accuracy: 0.0000e+00\n",
            "Epoch 70/150\n",
            "119/119 [==============================] - 1s 6ms/step - loss: 1212259968.0000 - accuracy: 0.0000e+00\n",
            "Epoch 71/150\n",
            "119/119 [==============================] - 1s 5ms/step - loss: 1188870144.0000 - accuracy: 0.0000e+00\n",
            "Epoch 72/150\n",
            "119/119 [==============================] - 1s 5ms/step - loss: 1197471616.0000 - accuracy: 0.0000e+00\n",
            "Epoch 73/150\n",
            "119/119 [==============================] - 1s 5ms/step - loss: 1200600320.0000 - accuracy: 0.0000e+00\n",
            "Epoch 74/150\n",
            "119/119 [==============================] - 1s 9ms/step - loss: 1157747200.0000 - accuracy: 0.0000e+00\n",
            "Epoch 75/150\n",
            "119/119 [==============================] - 1s 9ms/step - loss: 1152956672.0000 - accuracy: 0.0000e+00\n",
            "Epoch 76/150\n",
            "119/119 [==============================] - 1s 7ms/step - loss: 1162438144.0000 - accuracy: 0.0000e+00\n",
            "Epoch 77/150\n",
            "119/119 [==============================] - 1s 5ms/step - loss: 1193960320.0000 - accuracy: 0.0000e+00\n",
            "Epoch 78/150\n",
            "119/119 [==============================] - 1s 5ms/step - loss: 1144879104.0000 - accuracy: 0.0000e+00\n",
            "Epoch 79/150\n",
            "119/119 [==============================] - 1s 6ms/step - loss: 1182908544.0000 - accuracy: 0.0000e+00\n",
            "Epoch 80/150\n",
            "119/119 [==============================] - 1s 5ms/step - loss: 1114616576.0000 - accuracy: 0.0000e+00\n",
            "Epoch 81/150\n",
            "119/119 [==============================] - 1s 5ms/step - loss: 1179868544.0000 - accuracy: 0.0000e+00\n",
            "Epoch 82/150\n",
            "119/119 [==============================] - 1s 5ms/step - loss: 1097157120.0000 - accuracy: 0.0000e+00\n",
            "Epoch 83/150\n",
            "119/119 [==============================] - 1s 5ms/step - loss: 1156745344.0000 - accuracy: 0.0000e+00\n",
            "Epoch 84/150\n",
            "119/119 [==============================] - 1s 5ms/step - loss: 1098400512.0000 - accuracy: 0.0000e+00\n",
            "Epoch 85/150\n",
            "119/119 [==============================] - 1s 5ms/step - loss: 1100412416.0000 - accuracy: 0.0000e+00\n",
            "Epoch 86/150\n",
            "119/119 [==============================] - 1s 5ms/step - loss: 1077716224.0000 - accuracy: 0.0000e+00\n",
            "Epoch 87/150\n",
            "119/119 [==============================] - 1s 8ms/step - loss: 1090489984.0000 - accuracy: 0.0000e+00\n",
            "Epoch 88/150\n",
            "119/119 [==============================] - 1s 9ms/step - loss: 1124021888.0000 - accuracy: 0.0000e+00\n",
            "Epoch 89/150\n",
            "119/119 [==============================] - 1s 7ms/step - loss: 1105544320.0000 - accuracy: 0.0000e+00\n",
            "Epoch 90/150\n",
            "119/119 [==============================] - 1s 5ms/step - loss: 1052195712.0000 - accuracy: 0.0000e+00\n",
            "Epoch 91/150\n",
            "119/119 [==============================] - 1s 5ms/step - loss: 1087284864.0000 - accuracy: 0.0000e+00\n",
            "Epoch 92/150\n",
            "119/119 [==============================] - 1s 5ms/step - loss: 1061744960.0000 - accuracy: 0.0000e+00\n",
            "Epoch 93/150\n",
            "119/119 [==============================] - 1s 5ms/step - loss: 1140295808.0000 - accuracy: 0.0000e+00\n",
            "Epoch 94/150\n",
            "119/119 [==============================] - 1s 5ms/step - loss: 1051341056.0000 - accuracy: 0.0000e+00\n",
            "Epoch 95/150\n",
            "119/119 [==============================] - 1s 5ms/step - loss: 1056992192.0000 - accuracy: 0.0000e+00\n",
            "Epoch 96/150\n",
            "119/119 [==============================] - 1s 5ms/step - loss: 1033684736.0000 - accuracy: 0.0000e+00\n",
            "Epoch 97/150\n",
            "119/119 [==============================] - 1s 5ms/step - loss: 1053970240.0000 - accuracy: 0.0000e+00\n",
            "Epoch 98/150\n",
            "119/119 [==============================] - 1s 5ms/step - loss: 1112090496.0000 - accuracy: 0.0000e+00\n",
            "Epoch 99/150\n",
            "119/119 [==============================] - 1s 9ms/step - loss: 1038735232.0000 - accuracy: 0.0000e+00\n",
            "Epoch 100/150\n",
            "119/119 [==============================] - 1s 9ms/step - loss: 1041137472.0000 - accuracy: 0.0000e+00\n",
            "Epoch 101/150\n",
            "119/119 [==============================] - 1s 9ms/step - loss: 1008998976.0000 - accuracy: 0.0000e+00\n",
            "Epoch 102/150\n",
            "119/119 [==============================] - 1s 5ms/step - loss: 985707200.0000 - accuracy: 0.0000e+00\n",
            "Epoch 103/150\n",
            "119/119 [==============================] - 1s 5ms/step - loss: 1013029056.0000 - accuracy: 0.0000e+00\n",
            "Epoch 104/150\n",
            "119/119 [==============================] - 1s 5ms/step - loss: 990013056.0000 - accuracy: 0.0000e+00\n",
            "Epoch 105/150\n",
            "119/119 [==============================] - 1s 5ms/step - loss: 1028416960.0000 - accuracy: 0.0000e+00\n",
            "Epoch 106/150\n",
            "119/119 [==============================] - 1s 5ms/step - loss: 1022520320.0000 - accuracy: 0.0000e+00\n",
            "Epoch 107/150\n",
            "119/119 [==============================] - 1s 5ms/step - loss: 1060277312.0000 - accuracy: 0.0000e+00\n",
            "Epoch 108/150\n",
            "119/119 [==============================] - 1s 5ms/step - loss: 1040504256.0000 - accuracy: 0.0000e+00\n",
            "Epoch 109/150\n",
            "119/119 [==============================] - 1s 5ms/step - loss: 1023642496.0000 - accuracy: 0.0000e+00\n",
            "Epoch 110/150\n",
            "119/119 [==============================] - 1s 5ms/step - loss: 1040484992.0000 - accuracy: 0.0000e+00\n",
            "Epoch 111/150\n",
            "119/119 [==============================] - 1s 5ms/step - loss: 995213696.0000 - accuracy: 0.0000e+00\n",
            "Epoch 112/150\n",
            "119/119 [==============================] - 1s 6ms/step - loss: 978290048.0000 - accuracy: 0.0000e+00\n",
            "Epoch 113/150\n",
            "119/119 [==============================] - 1s 9ms/step - loss: 1010747520.0000 - accuracy: 0.0000e+00\n",
            "Epoch 114/150\n",
            "119/119 [==============================] - 1s 9ms/step - loss: 985421952.0000 - accuracy: 0.0000e+00\n",
            "Epoch 115/150\n",
            "119/119 [==============================] - 1s 5ms/step - loss: 981945984.0000 - accuracy: 0.0000e+00\n",
            "Epoch 116/150\n",
            "119/119 [==============================] - 1s 5ms/step - loss: 970110976.0000 - accuracy: 0.0000e+00\n",
            "Epoch 117/150\n",
            "119/119 [==============================] - 1s 5ms/step - loss: 971373952.0000 - accuracy: 0.0000e+00\n",
            "Epoch 118/150\n",
            "119/119 [==============================] - 1s 5ms/step - loss: 1003945216.0000 - accuracy: 0.0000e+00\n",
            "Epoch 119/150\n",
            "119/119 [==============================] - 1s 5ms/step - loss: 934246464.0000 - accuracy: 0.0000e+00\n",
            "Epoch 120/150\n",
            "119/119 [==============================] - 1s 5ms/step - loss: 1012107648.0000 - accuracy: 0.0000e+00\n",
            "Epoch 121/150\n",
            "119/119 [==============================] - 1s 5ms/step - loss: 938445696.0000 - accuracy: 0.0000e+00\n",
            "Epoch 122/150\n",
            "119/119 [==============================] - 1s 6ms/step - loss: 976988992.0000 - accuracy: 0.0000e+00\n",
            "Epoch 123/150\n",
            "119/119 [==============================] - 1s 5ms/step - loss: 912637248.0000 - accuracy: 0.0000e+00\n",
            "Epoch 124/150\n",
            "119/119 [==============================] - 1s 5ms/step - loss: 940147392.0000 - accuracy: 0.0000e+00\n",
            "Epoch 125/150\n",
            "119/119 [==============================] - 1s 5ms/step - loss: 1019941760.0000 - accuracy: 0.0000e+00\n",
            "Epoch 126/150\n",
            "119/119 [==============================] - 1s 6ms/step - loss: 997638144.0000 - accuracy: 0.0000e+00\n",
            "Epoch 127/150\n",
            "119/119 [==============================] - 1s 5ms/step - loss: 958860928.0000 - accuracy: 0.0000e+00\n",
            "Epoch 128/150\n",
            "119/119 [==============================] - 1s 7ms/step - loss: 938378240.0000 - accuracy: 0.0000e+00\n",
            "Epoch 129/150\n",
            "119/119 [==============================] - 1s 9ms/step - loss: 932802752.0000 - accuracy: 0.0000e+00\n",
            "Epoch 130/150\n",
            "119/119 [==============================] - 1s 8ms/step - loss: 895601536.0000 - accuracy: 0.0000e+00\n",
            "Epoch 131/150\n",
            "119/119 [==============================] - 1s 6ms/step - loss: 930218304.0000 - accuracy: 0.0000e+00\n",
            "Epoch 132/150\n",
            "119/119 [==============================] - 1s 5ms/step - loss: 929302784.0000 - accuracy: 0.0000e+00\n",
            "Epoch 133/150\n",
            "119/119 [==============================] - 1s 6ms/step - loss: 886592512.0000 - accuracy: 0.0000e+00\n",
            "Epoch 134/150\n",
            "119/119 [==============================] - 1s 5ms/step - loss: 894561408.0000 - accuracy: 0.0000e+00\n",
            "Epoch 135/150\n",
            "119/119 [==============================] - 1s 5ms/step - loss: 952234880.0000 - accuracy: 0.0000e+00\n",
            "Epoch 136/150\n",
            "119/119 [==============================] - 1s 5ms/step - loss: 888092160.0000 - accuracy: 0.0000e+00\n",
            "Epoch 137/150\n",
            "119/119 [==============================] - 1s 5ms/step - loss: 920596928.0000 - accuracy: 0.0000e+00\n",
            "Epoch 138/150\n",
            "119/119 [==============================] - 1s 5ms/step - loss: 918934464.0000 - accuracy: 0.0000e+00\n",
            "Epoch 139/150\n",
            "119/119 [==============================] - 1s 5ms/step - loss: 855306048.0000 - accuracy: 0.0000e+00\n",
            "Epoch 140/150\n",
            "119/119 [==============================] - 1s 5ms/step - loss: 904938944.0000 - accuracy: 0.0000e+00\n",
            "Epoch 141/150\n",
            "119/119 [==============================] - 1s 5ms/step - loss: 857239616.0000 - accuracy: 0.0000e+00\n",
            "Epoch 142/150\n",
            "119/119 [==============================] - 1s 6ms/step - loss: 947822400.0000 - accuracy: 0.0000e+00\n",
            "Epoch 143/150\n",
            "119/119 [==============================] - 1s 9ms/step - loss: 953122176.0000 - accuracy: 0.0000e+00\n",
            "Epoch 144/150\n",
            "119/119 [==============================] - 1s 9ms/step - loss: 873711296.0000 - accuracy: 0.0000e+00\n",
            "Epoch 145/150\n",
            "119/119 [==============================] - 1s 5ms/step - loss: 843266816.0000 - accuracy: 0.0000e+00\n",
            "Epoch 146/150\n",
            "119/119 [==============================] - 1s 5ms/step - loss: 865641280.0000 - accuracy: 0.0000e+00\n",
            "Epoch 147/150\n",
            "119/119 [==============================] - 1s 5ms/step - loss: 871905856.0000 - accuracy: 0.0000e+00\n",
            "Epoch 148/150\n",
            "119/119 [==============================] - 1s 5ms/step - loss: 857084352.0000 - accuracy: 0.0000e+00\n",
            "Epoch 149/150\n",
            "119/119 [==============================] - 1s 6ms/step - loss: 878325376.0000 - accuracy: 0.0000e+00\n",
            "Epoch 150/150\n",
            "119/119 [==============================] - 1s 6ms/step - loss: 871683520.0000 - accuracy: 0.0000e+00\n"
          ]
        }
      ]
    },
    {
      "cell_type": "code",
      "source": [
        "model_NN.summary()"
      ],
      "metadata": {
        "colab": {
          "base_uri": "https://localhost:8080/"
        },
        "id": "siLPhDpnl_T7",
        "outputId": "5627958a-4632-4de0-e033-8c17a6d350c4"
      },
      "execution_count": null,
      "outputs": [
        {
          "output_type": "stream",
          "name": "stdout",
          "text": [
            "Model: \"sequential_13\"\n",
            "_________________________________________________________________\n",
            " Layer (type)                Output Shape              Param #   \n",
            "=================================================================\n",
            " dense_66 (Dense)            (None, 256)               131840    \n",
            "                                                                 \n",
            " dense_67 (Dense)            (None, 128)               32896     \n",
            "                                                                 \n",
            " dense_68 (Dense)            (None, 32)                4128      \n",
            "                                                                 \n",
            " dense_69 (Dense)            (None, 8)                 264       \n",
            "                                                                 \n",
            " dense_70 (Dense)            (None, 4)                 36        \n",
            "                                                                 \n",
            " dense_71 (Dense)            (None, 1)                 5         \n",
            "                                                                 \n",
            "=================================================================\n",
            "Total params: 169,169\n",
            "Trainable params: 169,169\n",
            "Non-trainable params: 0\n",
            "_________________________________________________________________\n"
          ]
        }
      ]
    },
    {
      "cell_type": "markdown",
      "source": [
        "The MAE for Neural Network is printed below. This performance is slightly lower than XGBoost."
      ],
      "metadata": {
        "id": "LrmrOu9dNtfj"
      }
    },
    {
      "cell_type": "code",
      "source": [
        "print(\"Neural Network Output:-\")\n",
        "Y_train_pred_NN = model_NN.predict(X_train)\n",
        "MAE_train_NN = mean_absolute_error(Y_train_pred_NN, Y_train)\n",
        "print(\"The MAE on training set is Rs. {:.2f}\".format(MAE_train_NN))\n",
        "Y_test_pred_NN = model_NN.predict(X_test)\n",
        "MAE_test_NN = mean_absolute_error(Y_test_pred_NN, Y_test)\n",
        "print(\"The MAE on testing set is Rs. {:.2f}\".format(MAE_test_NN))"
      ],
      "metadata": {
        "colab": {
          "base_uri": "https://localhost:8080/"
        },
        "id": "qVyoylFcmSF4",
        "outputId": "e2aa616a-01d3-498a-967b-d092d5f382d6"
      },
      "execution_count": null,
      "outputs": [
        {
          "output_type": "stream",
          "name": "stdout",
          "text": [
            "Neural Network Output:-\n",
            "119/119 [==============================] - 0s 2ms/step\n",
            "The MAE on training set is Rs. 11815.18\n",
            "30/30 [==============================] - 0s 2ms/step\n",
            "The MAE on testing set is Rs. 19636.22\n"
          ]
        }
      ]
    },
    {
      "cell_type": "markdown",
      "source": [
        "The cost function plot is plotted below. The cost initially monotonically decreases, and later it oscillates with small amplitude further decreasing at a slower rate."
      ],
      "metadata": {
        "id": "R-hdPmWWOBhk"
      }
    },
    {
      "cell_type": "code",
      "source": [
        "J = fitted_data_NN.history['loss']\n",
        "plt.plot(J)\n",
        "plt.title('Cost Function Plot')\n",
        "plt.xlabel('Iteration')\n",
        "plt.ylabel('Cost Function J')\n",
        "print(\"The final cost function value of training set is {}\".format(J[-1]))"
      ],
      "metadata": {
        "colab": {
          "base_uri": "https://localhost:8080/",
          "height": 312
        },
        "id": "C2y2nCcboivB",
        "outputId": "02b66394-1378-441e-e921-2e9ce095b233"
      },
      "execution_count": null,
      "outputs": [
        {
          "output_type": "stream",
          "name": "stdout",
          "text": [
            "The final cost function value of training set is 871683520.0\n"
          ]
        },
        {
          "output_type": "display_data",
          "data": {
            "text/plain": [
              "<Figure size 432x288 with 1 Axes>"
            ],
            "image/png": "[encoded data removed]"
          },
          "metadata": {
            "needs_background": "light"
          }
        }
      ]
    },
    {
      "cell_type": "markdown",
      "source": [
        "## **Summary**"
      ],
      "metadata": {
        "id": "MHNTxY08PrU7"
      }
    },
    {
      "cell_type": "markdown",
      "source": [
        "To summarize, the dataset is modelled using 4 different models, and the performance for these models in descending order are as follows:-\n",
        "1.   XGBoost\n",
        "2.   Neural Network\n",
        "3.   Linear Regression\n",
        "4.   Random Forest\n",
        "\n",
        "However, this may not be the final order because further hypertuning might change the order. The reason for this is that there is the optimum values of hyperparameters cannot be exactly found out using trying out different values."
      ],
      "metadata": {
        "id": "tE_lbvpEPyPT"
      }
    }
  ]
}